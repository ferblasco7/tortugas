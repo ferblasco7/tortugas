{
 "cells": [
  {
   "cell_type": "markdown",
   "metadata": {},
   "source": [
    "# Visualización de la ley de Snell a partir del principio de Fermat con el módulo turtle de Python"
   ]
  },
  {
   "cell_type": "markdown",
   "metadata": {},
   "source": [
    "Importamos el módulo turtle para poder usar las tortugas, numpy para cálculos trigonométricos y tkinter para emplear diálogos (y que el usuario pueda fijar el índice de refracción, decidir cuándo empieza la carrera,...)."
   ]
  },
  {
   "cell_type": "code",
   "execution_count": 2,
   "metadata": {},
   "outputs": [],
   "source": [
    "import turtle\n",
    "from numpy import sin, tan, arctan, radians, degrees\n",
    "import tkinter #crear dialogos"
   ]
  },
  {
   "cell_type": "markdown",
   "metadata": {},
   "source": [
    "Preguntamos, mediante un diálogo, el índice de refracción de la arena (el del agua se toma como 1 por simplicidad), y fijamos las coordenadas de la meta y la salida, junto con los ángulos de partida y colores de cada tortuga."
   ]
  },
  {
   "cell_type": "code",
   "execution_count": 3,
   "metadata": {},
   "outputs": [],
   "source": [
    "parent = tkinter.Tk()\n",
    "parent.overrideredirect(1) # para que no desaparezca\n",
    "parent.withdraw() # ???? Hide the window as we do not want to see this one\n",
    "simpledialog=tkinter.simpledialog\n",
    "n = simpledialog.askfloat('Fijar índice de refracción', '¿Qué índice de refracción quieres fijar para la arena?', initialvalue=2, minvalue=1.0, maxvalue=1000.0, parent=parent)\n",
    "#Coordenadas de meta y salida\n",
    "meta=[330,-330]\n",
    "salida=[-340,340]\n",
    "X=meta[0]-salida[0] #distancia recorrida en X (en ambos medios)\n",
    "Y1,Y2=330,340 #distancia recorrida en Y en cada medio\n",
    "posicion_y_podio=320 #coordenada y del podio\n",
    "#angulos (respecto al eje x [complementarios al angulo respecto a la normal]) de partida y colores de las tortugas a,b,c,d,e:\n",
    "angulos=[-45,-55,-65,-75,-85] #en orden inverso por usar la función pop()\n",
    "colores=['purple','#7FFFD4','green','#FFFF00','red'] #en orden inverso por usar la función pop()"
   ]
  },
  {
   "cell_type": "markdown",
   "metadata": {},
   "source": [
    "Configuramos el título y dimensiones de la ventana:"
   ]
  },
  {
   "cell_type": "code",
   "execution_count": 4,
   "metadata": {},
   "outputs": [],
   "source": [
    "#turtle.setup()\n",
    "wn=turtle.Screen()\n",
    "wn.title(\"Carrera de tortugas\")\n",
    "width, height= 800, 800\n",
    "wn.screensize(width, height)\n"
   ]
  },
  {
   "cell_type": "markdown",
   "metadata": {},
   "source": [
    "Pintamos el mar:"
   ]
  },
  {
   "cell_type": "code",
   "execution_count": 5,
   "metadata": {},
   "outputs": [],
   "source": [
    "t=turtle.Turtle() #t dibuja nuestro entorno\n",
    "t.hideturtle()\n",
    "\n",
    "t.pencolor(\"blue\")\n",
    "t.fillcolor('blue')\n",
    "t.pensize(5)\n",
    "t.begin_fill()\n",
    "\n",
    "t.goto(-350, 0)\n",
    "t.goto(350, 0)\n",
    "t.goto(350, -350)\n",
    "t.goto(-350, -350)\n",
    "t.goto(-350, 0)\n",
    "t.end_fill()\n"
   ]
  },
  {
   "cell_type": "markdown",
   "metadata": {},
   "source": [
    "Pintamos la arena:"
   ]
  },
  {
   "cell_type": "code",
   "execution_count": 6,
   "metadata": {},
   "outputs": [],
   "source": [
    "t.pencolor(\"#FFA500\")\n",
    "t.fillcolor('#FFA500')\n",
    "t.pensize(5)\n",
    "t.begin_fill()\n",
    "\n",
    "t.goto(-350, 0)\n",
    "t.goto(350, 0)\n",
    "t.goto(350, 350)\n",
    "t.goto(-350, 350)\n",
    "t.goto(-350, 0)\n",
    "t.end_fill()"
   ]
  },
  {
   "cell_type": "markdown",
   "metadata": {},
   "source": [
    "Dibujamos la meta:"
   ]
  },
  {
   "cell_type": "code",
   "execution_count": 7,
   "metadata": {},
   "outputs": [],
   "source": [
    "t.hideturtle()\n",
    "t.penup()\n",
    "t.goto([330,-360])\n",
    "t.color('white')\n",
    "style = ('Courier', 40, 'bold')\n",
    "t.write('X', font=style, align='center')"
   ]
  },
  {
   "cell_type": "markdown",
   "metadata": {},
   "source": [
    "Mostramos los índices de refracción de la tierra y el agua:\n"
   ]
  },
  {
   "cell_type": "code",
   "execution_count": 8,
   "metadata": {},
   "outputs": [],
   "source": [
    "#indice agua\n",
    "t.goto([175,-45])\n",
    "style = ('Courier', 25, 'bold')\n",
    "t.write('n2 = 1.0',font=style)\n",
    "\n",
    "#indice tierra\n",
    "t.goto([175,-5])\n",
    "t.color('black')\n",
    "t.write('n1 = '+ str(n),font=style)"
   ]
  },
  {
   "cell_type": "markdown",
   "metadata": {},
   "source": [
    "Creamos las nuevas tortugas y las metemos en una lista para facilitar su control mediante bucles."
   ]
  },
  {
   "cell_type": "code",
   "execution_count": 9,
   "metadata": {},
   "outputs": [],
   "source": [
    "a,b,c,d,e=turtle.Turtle(), turtle.Turtle(), turtle.Turtle(), turtle.Turtle(), turtle.Turtle()\n",
    "tortugas=[a,b,c,d,e]\n",
    "for tortuga in tortugas: tortuga.hideturtle()"
   ]
  },
  {
   "cell_type": "markdown",
   "metadata": {},
   "source": [
    "Llevamos las tortugas a la salida (pasando por meta, para dejar dibujada su trayectoria) y las orientamos en los ángulos fijados en la lista homónima."
   ]
  },
  {
   "cell_type": "code",
   "execution_count": 11,
   "metadata": {},
   "outputs": [
    {
     "ename": "IndexError",
     "evalue": "pop from empty list",
     "output_type": "error",
     "traceback": [
      "\u001b[0;31m---------------------------------------------------------------------------\u001b[0m",
      "\u001b[0;31mIndexError\u001b[0m                                Traceback (most recent call last)",
      "\u001b[0;32m<ipython-input-11-b46cc03df99f>\u001b[0m in \u001b[0;36m<module>\u001b[0;34m()\u001b[0m\n\u001b[1;32m      3\u001b[0m     \u001b[0mtortuga\u001b[0m\u001b[0;34m.\u001b[0m\u001b[0mshape\u001b[0m\u001b[0;34m(\u001b[0m\u001b[0;34m'turtle'\u001b[0m\u001b[0;34m)\u001b[0m\u001b[0;34m\u001b[0m\u001b[0m\n\u001b[1;32m      4\u001b[0m     \u001b[0mtortuga\u001b[0m\u001b[0;34m.\u001b[0m\u001b[0mshowturtle\u001b[0m\u001b[0;34m(\u001b[0m\u001b[0;34m)\u001b[0m\u001b[0;34m\u001b[0m\u001b[0m\n\u001b[0;32m----> 5\u001b[0;31m     \u001b[0mtortuga\u001b[0m\u001b[0;34m.\u001b[0m\u001b[0mcolor\u001b[0m\u001b[0;34m(\u001b[0m\u001b[0mcolores\u001b[0m\u001b[0;34m.\u001b[0m\u001b[0mpop\u001b[0m\u001b[0;34m(\u001b[0m\u001b[0;34m)\u001b[0m\u001b[0;34m)\u001b[0m\u001b[0;34m\u001b[0m\u001b[0m\n\u001b[0m\u001b[1;32m      6\u001b[0m     \u001b[0mtortuga\u001b[0m\u001b[0;34m.\u001b[0m\u001b[0mpensize\u001b[0m\u001b[0;34m(\u001b[0m\u001b[0;36m3\u001b[0m\u001b[0;34m)\u001b[0m\u001b[0;34m\u001b[0m\u001b[0m\n\u001b[1;32m      7\u001b[0m     \u001b[0mtortuga\u001b[0m\u001b[0;34m.\u001b[0m\u001b[0mturtlesize\u001b[0m\u001b[0;34m(\u001b[0m\u001b[0;36m1\u001b[0m\u001b[0;34m,\u001b[0m \u001b[0;36m1\u001b[0m\u001b[0;34m,\u001b[0m \u001b[0;36m2.4\u001b[0m\u001b[0;34m)\u001b[0m\u001b[0;34m\u001b[0m\u001b[0m\n",
      "\u001b[0;31mIndexError\u001b[0m: pop from empty list"
     ]
    }
   ],
   "source": [
    "for tortuga in tortugas:\n",
    "    tortuga.penup()\n",
    "    tortuga.shape('turtle')\n",
    "    tortuga.showturtle()\n",
    "    tortuga.color(colores.pop())\n",
    "    tortuga.pensize(3)\n",
    "    tortuga.turtlesize(1, 1, 2.4)\n",
    "    tortuga.goto(meta)\n",
    "    tortuga.pendown()\n",
    "    angulo=angulos.pop()\n",
    "    tortuga.goto(-340-340/tan(radians(angulo)),0)\n",
    "    tortuga.goto(salida)\n",
    "    tortuga.setheading(angulo)"
   ]
  },
  {
   "cell_type": "markdown",
   "metadata": {},
   "source": [
    "Diálogo para que el usuario decida cuándo empieza la carrera:"
   ]
  },
  {
   "cell_type": "code",
   "execution_count": 12,
   "metadata": {},
   "outputs": [],
   "source": [
    "messagebox=tkinter.messagebox\n",
    "info = messagebox.showinfo('Carrera de tortugas', '¿Empezamos la carrera?', parent=parent)\n"
   ]
  },
  {
   "cell_type": "markdown",
   "metadata": {},
   "source": [
    "Fijamos la velocidad de la animación y el tamaño del trazo, y creamos la lista para diferenciar qué tortugas están en tierra y cuáles han llegado ya al agua (necesario para modificar su velocidad)."
   ]
  },
  {
   "cell_type": "code",
   "execution_count": 13,
   "metadata": {},
   "outputs": [],
   "source": [
    "for tortuga in tortugas:\n",
    "  tortuga.pensize(10)\n",
    "  tortuga.speed(5)\n",
    "\n",
    "#a correr\n",
    "tortugas_tierra=tortugas[:]\n",
    "tortugas_agua=[]"
   ]
  },
  {
   "cell_type": "markdown",
   "metadata": {},
   "source": [
    "Bucle que controla la carrera:"
   ]
  },
  {
   "cell_type": "code",
   "execution_count": 14,
   "metadata": {},
   "outputs": [],
   "source": [
    "while tortugas_agua!=[] or tortugas_tierra!=[]:\n",
    "  for tortuga in tortugas_tierra:\n",
    "    tortuga.forward(1)\n",
    "  for tortuga in tortugas_agua:\n",
    "    tortuga.forward(n)\n",
    "\n",
    "  #cuando las tortugas llegan al agua, giran:\n",
    "  posiciones_y_tierra=[tortugalenta.ycor() for tortugalenta in tortugas_tierra]\n",
    "  tortuga_llega_agua=[numero_tortuga for numero_tortuga in range(len(tortugas_tierra)) if posiciones_y_tierra[numero_tortuga]<0.01]\n",
    "  if tortuga_llega_agua!=[]:\n",
    "    tortu_que_gira=tortugas_tierra[tortuga_llega_agua[0]]\n",
    "    tortu_que_gira.setheading(tortu_que_gira.towards(330,-330))\n",
    "    #quitamos la tortuga de la lista de las que estan en tierra y la añadimos a las que estan en mar\n",
    "    tortugas_agua.append(tortugas_tierra.pop(tortuga_llega_agua[0]))\n",
    "\n",
    "\n",
    "  #las tortugas ganadoras dejan de avanzar\n",
    "  posiciones_y_agua=[tortugarapida.ycor() for tortugarapida in tortugas_agua]\n",
    "  tortuga_gana=[numero_tortuga for numero_tortuga in range(len(tortugas_agua)) if posiciones_y_agua[numero_tortuga]-meta[1]<.01]\n",
    "  if tortuga_gana!=[]:\n",
    "    tortu_que_gana=tortugas_agua[tortuga_gana[0]]\n",
    "\n",
    "    tortu_que_gana.penup()\n",
    "    tortu_que_gana.goto(320,posicion_y_podio)\n",
    "    tortu_que_gana.turtlesize(3, 3, 7.5)\n",
    "    tortu_que_gana.stamp()\n",
    "    posicion_y_podio=posicion_y_podio-30\n",
    "\n",
    "    tortu_que_gana.stamp\n",
    "    #quitamos la tortuga de la lista de las que estan en mar\n",
    "    tortugas_agua.pop(tortuga_gana[0])"
   ]
  },
  {
   "cell_type": "markdown",
   "metadata": {},
   "source": [
    "Avisamos al usuario de que ha terminado la carrera y cerramos turtle.\n"
   ]
  },
  {
   "cell_type": "code",
   "execution_count": 15,
   "metadata": {},
   "outputs": [],
   "source": [
    "messagebox=tkinter.messagebox\n",
    "info = messagebox.showinfo('Carrera de tortugas', '¡Carrera finalizada!', parent=parent)\n",
    "\n",
    "turtle.bye()"
   ]
  },
  {
   "cell_type": "markdown",
   "metadata": {},
   "source": [
    "Incluimos un pequeño bucle que permite comprobar qué tortuga se acerca más a la ley de Snell:"
   ]
  },
  {
   "cell_type": "code",
   "execution_count": 16,
   "metadata": {},
   "outputs": [],
   "source": [
    "\n",
    "#hacemos una copia de los ángulos de cada tortuga (esta vez sin invertir y RESPECTO A LA NORMAL) para los cálculos post-animación dirigidos a comprobar la ley de snell\n",
    "angulos_normal=[90-abs(angulo) for angulo in angulos] #pasamos a angulos respecto a la normal\n",
    "angulos_normal.reverse() #los ordenamos segun posicion de las tortugas\n",
    "tortugas_nombres=['roja','amarilla','verde','azul','morada'] #nombres de las tortugas\n",
    "\n",
    "for angulo_inc in angulos_normal:\n",
    "    X1=Y1*tan(radians(angulo_inc)) #distancia recorrida en x en el medio 1\n",
    "    angulo_ref=round(degrees(arctan((X-X1)/Y2)),1) #redondeamos a los decimales\n",
    "    nombre=tortugas_nombres.pop(0)\n",
    "    print('\\n\\nLa tortuga {} incide en el agua con un ángulo de {}º respecto a la normal, y se dirige a la meta desde el agua con un ángulo de {}º respecto a la normal.'.format(nombre,angulo_inc,angulo_ref))\n",
    "    print('\\nPara la tortuga {}: n1 * sen(angulo_inc) = {}  y  n2 * sen(angulo_ref) = {}'.format(nombre,round(n*sin(radians(angulo_inc)),2),round(sin(radians(angulo_ref)),2)))\n",
    "\n",
    "quit() #turtle no parece cerrarse correctamente, por lo que debemos cerra python para asegurar posteriores ejecuciones exitosas\n"
   ]
  },
  {
   "cell_type": "code",
   "execution_count": null,
   "metadata": {},
   "outputs": [],
   "source": []
  }
 ],
 "metadata": {
  "kernelspec": {
   "display_name": "Python 3",
   "language": "python",
   "name": "python3"
  },
  "language_info": {
   "codemirror_mode": {
    "name": "ipython",
    "version": 3
   },
   "file_extension": ".py",
   "mimetype": "text/x-python",
   "name": "python",
   "nbconvert_exporter": "python",
   "pygments_lexer": "ipython3",
   "version": "3.6.4"
  }
 },
 "nbformat": 4,
 "nbformat_minor": 2
}
